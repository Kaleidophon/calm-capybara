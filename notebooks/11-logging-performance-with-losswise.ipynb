{
 "cells": [
  {
   "cell_type": "markdown",
   "metadata": {},
   "source": [
    "[Losswise](https://losswise.com/) is a super straighforward tool to share and compare model performance metrics like loss and accuracy as well as parameters and compare them in one place. It doesn't come with a lot of overhead and you can use your Github account to log in. To use it in our project I wrote a small wrapper class around the Losswise library to make things for us even easier and not break the code if a secret API key is not given when cloning a later Open-Source repo. Let's check it out!"
   ]
  },
  {
   "cell_type": "code",
   "execution_count": 1,
   "metadata": {},
   "outputs": [],
   "source": [
    "# Import code from file in upper directory\n",
    "import sys, os\n",
    "sys.path.append(os.getcwd() + os.sep + os.pardir)\n",
    "\n",
    "# STD\n",
    "import random\n",
    "import time\n",
    "\n",
    "# PROJECT\n",
    "from session import LWSession"
   ]
  },
  {
   "cell_type": "markdown",
   "metadata": {},
   "source": [
    "We're going to use the LWSession class as an object manager, i.e. using Python's with-statement. That way we don't have to worry about opening or closing the session (and it looks very clean). See this example of some mock training:"
   ]
  },
  {
   "cell_type": "code",
   "execution_count": 2,
   "metadata": {},
   "outputs": [],
   "source": [
    "# This key works but the linked project on losswise will be deleted in time.\n",
    "# This could easily be replaced by defining the same line here in a module like config.py and then importing using\n",
    "# from config import API_KEY and adding config.py to the .gitignore.\n",
    "API_KEY = \"EA8Q382M5\""
   ]
  },
  {
   "cell_type": "code",
   "execution_count": 3,
   "metadata": {},
   "outputs": [
    {
     "name": "stdout",
     "output_type": "stream",
     "text": [
      "0\n",
      "1\n",
      "2\n",
      "3\n",
      "4\n",
      "5\n",
      "6\n",
      "7\n",
      "8\n",
      "9\n"
     ]
    }
   ],
   "source": [
    "# Let's pretend those are actual hyperparameters\n",
    "model_params = {'rnn_size': int(random.random() * 2560), \"bla\": \"bla\"}\n",
    "session_id = int(random.random() * 100)\n",
    "\n",
    "# Initialize the session:\n",
    "#  - Add an API Key\n",
    "#  - A tag\n",
    "#  - Add the model parameters used\n",
    "# Note: If no API key is given, set api_key=None and nothing will break.\n",
    "with LWSession(api_key=API_KEY, tag=\"simple_session_test_{}\".format(session_id), model_params=model_params) as session:\n",
    "    # Create the graph the data is plotted on. Easy to add one for accuracy here as well!\n",
    "    session.create_graph(\"loss\", kind='min', display_interval=1)\n",
    "\n",
    "    for epoch in range(10):\n",
    "        x = epoch\n",
    "        train_loss = 1. / (0.1 + x + 0.1 * random.random())\n",
    "        test_loss = 1.5 / (0.1 + x + 0.2 * random.random())\n",
    "        print(epoch)\n",
    "        \n",
    "        # Plot the data here: \n",
    "        #  - Name of the graph that the data should be added to \n",
    "        #  - Epoch or step\n",
    "        #  - The metrics to log\n",
    "        session.plot(epoch, {'train_loss': train_loss, 'test_loss': test_loss}, title=\"loss\")\n",
    "        time.sleep(5.)"
   ]
  },
  {
   "cell_type": "markdown",
   "metadata": {},
   "source": [
    "The plot can now be inspected on Losswise! Also cool: Graphs are updated in real-time."
   ]
  },
  {
   "cell_type": "code",
   "execution_count": null,
   "metadata": {},
   "outputs": [],
   "source": []
  }
 ],
 "metadata": {
  "kernelspec": {
   "display_name": "Python 3",
   "language": "python",
   "name": "python3"
  },
  "language_info": {
   "codemirror_mode": {
    "name": "ipython",
    "version": 3
   },
   "file_extension": ".py",
   "mimetype": "text/x-python",
   "name": "python",
   "nbconvert_exporter": "python",
   "pygments_lexer": "ipython3",
   "version": "3.6.4"
  }
 },
 "nbformat": 4,
 "nbformat_minor": 2
}
