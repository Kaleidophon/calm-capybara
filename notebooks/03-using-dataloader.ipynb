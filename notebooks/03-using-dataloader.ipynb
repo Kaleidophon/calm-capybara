{
 "cells": [
  {
   "cell_type": "markdown",
   "metadata": {},
   "source": [
    "# Using the DataLoader"
   ]
  },
  {
   "cell_type": "code",
   "execution_count": 1,
   "metadata": {},
   "outputs": [
    {
     "name": "stderr",
     "output_type": "stream",
     "text": [
      "/home/daniel/miniconda3/envs/dlnlt/lib/python3.7/site-packages/sklearn/utils/__init__.py:4: DeprecationWarning: Using or importing the ABCs from 'collections' instead of from 'collections.abc' is deprecated, and in 3.8 it will stop working\n",
      "  from collections import Sequence\n"
     ]
    }
   ],
   "source": [
    "# Import code from file in upper directory\n",
    "import sys, os\n",
    "sys.path.append(os.getcwd() + os.sep + os.pardir)\n",
    "from tweet_data import TweetsBaseDataset"
   ]
  },
  {
   "cell_type": "markdown",
   "metadata": {},
   "source": [
    "Let's load the dev dataset for simplicity."
   ]
  },
  {
   "cell_type": "code",
   "execution_count": 2,
   "metadata": {},
   "outputs": [
    {
     "name": "stdout",
     "output_type": "stream",
     "text": [
      "Reading file\n",
      "Read file with 50000 tweets, 77053 unique tokens\n",
      "Building vocabulary\n",
      "Loading labels\n"
     ]
    }
   ],
   "source": [
    "dataset = TweetsBaseDataset('../data/dev', 'us_trial')"
   ]
  },
  {
   "cell_type": "markdown",
   "metadata": {},
   "source": [
    "To be able to get batches of variable-length sequences we have to write our custom `collate_fn` for the `DataLoader`. This function is defined in `TweetBaseDataset.collate_fn()`."
   ]
  },
  {
   "cell_type": "code",
   "execution_count": 3,
   "metadata": {},
   "outputs": [],
   "source": [
    "from torch.utils.data import DataLoader\n",
    "data_loader = DataLoader(dataset, collate_fn=TweetsBaseDataset.collate_fn, batch_size=4, shuffle=True)"
   ]
  },
  {
   "cell_type": "markdown",
   "metadata": {},
   "source": [
    "We can now use the data loader to get batches of the data. Each batch contains the padded sequences, the labels, and the length of each sequence."
   ]
  },
  {
   "cell_type": "code",
   "execution_count": 9,
   "metadata": {},
   "outputs": [
    {
     "name": "stdout",
     "output_type": "stream",
     "text": [
      "Padded sequences:\n",
      " tensor([[   1,  572,    2,    7],\n",
      "        [   1,   77,    1, 1056],\n",
      "        [   2,   10,    2, 1116],\n",
      "        [   1,   88,    1,  149],\n",
      "        [   2,   70,    2,   14],\n",
      "        [   1,   17, 5504,    7],\n",
      "        [   2,   11,    2,  276],\n",
      "        [9456, 1858,  177,    3],\n",
      "        [   2,   15,    1,  702],\n",
      "        [   1,  545,    3,  450],\n",
      "        [   2,   20,  596,  123],\n",
      "        [   1,   83, 1306,    0],\n",
      "        [   2, 8948,    0,    0],\n",
      "        [   1,    0,    0,    0]])\n",
      "Labels:\n",
      " tensor([3, 0, 4, 8])\n",
      "Sequence lenghts:\n",
      " [14 13 12 11]\n"
     ]
    }
   ],
   "source": [
    "data, labels, lengths = next(iter(data_loader))\n",
    "print('Padded sequences:\\n', data)\n",
    "print('Labels:\\n', labels)\n",
    "print('Sequence lenghts:\\n', lengths)"
   ]
  },
  {
   "cell_type": "markdown",
   "metadata": {},
   "source": [
    "The sequence lengths can be used to create a `PackedSequence`, which avoids calculating the output of recurrent models for padding tokens. A `PackedSequence` is created using `pack_padded_sequence()`:"
   ]
  },
  {
   "cell_type": "code",
   "execution_count": 22,
   "metadata": {},
   "outputs": [
    {
     "name": "stdout",
     "output_type": "stream",
     "text": [
      "tensor([[[ 0.3833,  0.4755,  0.2564,  0.4347, -0.4255,  0.2481],\n",
      "         [ 0.5882,  0.0470, -0.0261, -0.1068, -0.7731,  0.0276],\n",
      "         [-0.1024,  0.0152, -0.0420,  0.0380,  0.0566, -0.1652],\n",
      "         [ 0.0483,  0.2355,  0.0023, -0.1281, -0.2174, -0.3228]]],\n",
      "       grad_fn=<ThAddBackward>)\n"
     ]
    }
   ],
   "source": [
    "import torch\n",
    "from torch.nn.utils.rnn import pack_padded_sequence\n",
    "\n",
    "# Model definition\n",
    "embedding_dim = 100\n",
    "embeddings = torch.nn.Embedding(len(dataset.vocabulary), embedding_dim)\n",
    "rnn = torch.nn.RNN(embedding_dim, embedding_dim)\n",
    "linear = torch.nn.Linear(embedding_dim, 6)\n",
    "\n",
    "# Forward pass with padded batch of data\n",
    "def example_forward(data, lengths):\n",
    "    x = embeddings(data)\n",
    "    x = pack_padded_sequence(x, lengths)\n",
    "    _, x = rnn(x)\n",
    "    x = linear(x)\n",
    "    \n",
    "    return x\n",
    "\n",
    "print(example_forward(data, lengths))"
   ]
  },
  {
   "cell_type": "markdown",
   "metadata": {},
   "source": [
    "Note that throughout these examples we have been using the default setting in PyTorch where the first axis correspond to the sequence, and the second "
   ]
  }
 ],
 "metadata": {
  "kernelspec": {
   "display_name": "Python 3",
   "language": "python",
   "name": "python3"
  },
  "language_info": {
   "codemirror_mode": {
    "name": "ipython",
    "version": 3
   },
   "file_extension": ".py",
   "mimetype": "text/x-python",
   "name": "python",
   "nbconvert_exporter": "python",
   "pygments_lexer": "ipython3",
   "version": "3.7.0"
  }
 },
 "nbformat": 4,
 "nbformat_minor": 2
}
