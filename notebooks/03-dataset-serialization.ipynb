{
 "cells": [
  {
   "cell_type": "markdown",
   "metadata": {},
   "source": [
    "# Dataset serialization"
   ]
  },
  {
   "cell_type": "code",
   "execution_count": 1,
   "metadata": {},
   "outputs": [],
   "source": [
    "# Import code from file in upper directory\n",
    "import sys, os\n",
    "sys.path.append(os.getcwd() + os.sep + os.pardir)\n",
    "from tweet_data import TweetsBOWDataset"
   ]
  },
  {
   "cell_type": "markdown",
   "metadata": {},
   "source": [
    "Loading a dataset from scratch takes quite some time due to preprocessing:"
   ]
  },
  {
   "cell_type": "code",
   "execution_count": 2,
   "metadata": {},
   "outputs": [
    {
     "name": "stdout",
     "output_type": "stream",
     "text": [
      "Reading file\n",
      "Read file with 50000 tweets\n",
      "Building vocabulary\n",
      "Loading labels\n",
      "Loading counts matrix\n",
      "Creating TF-ID matrix\n",
      "CPU times: user 33.9 s, sys: 123 ms, total: 34 s\n",
      "Wall time: 33.8 s\n"
     ]
    }
   ],
   "source": [
    "%time dataset = TweetsBOWDataset('../data/dev', 'us_trial')"
   ]
  },
  {
   "cell_type": "markdown",
   "metadata": {},
   "source": [
    "To avoid loading and processing the dataset every time a new script is run, we can save it to disk using the `dump()` method:"
   ]
  },
  {
   "cell_type": "code",
   "execution_count": 3,
   "metadata": {},
   "outputs": [
    {
     "name": "stdout",
     "output_type": "stream",
     "text": [
      "-rw-rw-r-- 1 daniel daniel 9843553 sep 19 17:24 dumped_dataset.p\r\n"
     ]
    }
   ],
   "source": [
    "dataset_fname = 'dumped_dataset.p'\n",
    "dataset.dump(dataset_fname)\n",
    "!ls -l | grep 'dumped'"
   ]
  },
  {
   "cell_type": "markdown",
   "metadata": {},
   "source": [
    "Loading it should be faster now, using the `load()` static method:"
   ]
  },
  {
   "cell_type": "code",
   "execution_count": 4,
   "metadata": {},
   "outputs": [
    {
     "name": "stdout",
     "output_type": "stream",
     "text": [
      "CPU times: user 2.12 s, sys: 16 ms, total: 2.13 s\n",
      "Wall time: 2.13 s\n"
     ]
    }
   ],
   "source": [
    "%time loaded_dataset = TweetsBOWDataset.load(dataset_fname)"
   ]
  },
  {
   "cell_type": "code",
   "execution_count": 5,
   "metadata": {},
   "outputs": [],
   "source": [
    "os.remove(dataset_fname)"
   ]
  }
 ],
 "metadata": {
  "kernelspec": {
   "display_name": "Python 3",
   "language": "python",
   "name": "python3"
  },
  "language_info": {
   "codemirror_mode": {
    "name": "ipython",
    "version": 3
   },
   "file_extension": ".py",
   "mimetype": "text/x-python",
   "name": "python",
   "nbconvert_exporter": "python",
   "pygments_lexer": "ipython3",
   "version": "3.6.6"
  }
 },
 "nbformat": 4,
 "nbformat_minor": 2
}
