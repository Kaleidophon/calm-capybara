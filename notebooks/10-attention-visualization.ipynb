{
 "cells": [
  {
   "cell_type": "markdown",
   "metadata": {},
   "source": [
    "# Attention-BiLSTM visualization"
   ]
  },
  {
   "cell_type": "code",
   "execution_count": 1,
   "metadata": {},
   "outputs": [],
   "source": [
    "# Import code from file in upper directory\n",
    "import sys, os\n",
    "sys.path.append(os.getcwd() + os.sep + os.pardir)\n",
    "\n",
    "from tweet_data import TweetsBaseDataset, get_mapping\n",
    "from attn_lstm import AttentionBiLSTMClassifier\n",
    "from train import load_model\n",
    "\n",
    "import torch\n",
    "import numpy as np\n",
    "from matplotlib import cm\n",
    "import matplotlib.pyplot as plt"
   ]
  },
  {
   "cell_type": "markdown",
   "metadata": {},
   "source": [
    "We start by instantiating a model with empty embeddings, and then loading the weights from an already trained model."
   ]
  },
  {
   "cell_type": "code",
   "execution_count": 2,
   "metadata": {},
   "outputs": [],
   "source": [
    "embeddings = np.empty((10002, 300), dtype=np.float32)\n",
    "model = AttentionBiLSTMClassifier(embeddings)\n",
    "model = load_model(model, '../runs/attbilstm-Sep28_14-29-40_gpu-deep-learner/best-ckpt.pt')"
   ]
  },
  {
   "cell_type": "markdown",
   "metadata": {},
   "source": [
    "Now we load the dataset to evaluate the model."
   ]
  },
  {
   "cell_type": "code",
   "execution_count": 3,
   "metadata": {},
   "outputs": [
    {
     "name": "stdout",
     "output_type": "stream",
     "text": [
      "Loaded dataset with 50000 tweets, 10002 unique tokens\n"
     ]
    }
   ],
   "source": [
    "test_set = TweetsBaseDataset.load('../data/test/us_test.set')\n",
    "idx_to_word = {i: word for word, i in test_set.vocabulary.items()}\n",
    "emoji_map = get_mapping('../data/mapping/us_mapping.txt')"
   ]
  },
  {
   "cell_type": "markdown",
   "metadata": {},
   "source": [
    "Previously we used the gradients to observe the influence of the input words in the predicted emoji. In the case of the Attention BiLSTM classifier, we can visualize the attention coefficients instead:"
   ]
  },
  {
   "cell_type": "code",
   "execution_count": 36,
   "metadata": {},
   "outputs": [],
   "source": [
    "def inspect_sample(index):    \n",
    "    # Get a sample tweet\n",
    "    inputs, y_true, index = test_set[index]\n",
    "    # Build mini-batch of size 1 to pass it to the model\n",
    "    inputs = inputs.unsqueeze(1)\n",
    "    length = torch.tensor([inputs.shape[0]])\n",
    "\n",
    "    # Get attention\n",
    "    outputs, attention = model(inputs, length, return_attention=True)\n",
    "    y_pred = torch.argmax(outputs)\n",
    "    attention = attention.squeeze().data.numpy()\n",
    "\n",
    "    # Plot attention for each word\n",
    "    words = [idx_to_word[idx.item()] for idx in inputs]\n",
    "    x = np.arange(len(words))\n",
    "    plt.figure(figsize=(0.5*len(words), 0.7))\n",
    "    #plt.bar(x, attention)\n",
    "    colors = cm.Reds(attention / max(attention))\n",
    "    plt.bar(x, [1 for a in attention], color=colors)\n",
    "    plt.xticks(x, words, rotation='45')\n",
    "    plt.yticks([])\n",
    "    plt.title('Attention')\n",
    "\n",
    "    print('Prediction: {}'.format(emoji_map[y_pred.item()]))\n",
    "    print('Truth: {}'.format(emoji_map[y_true.item()]))"
   ]
  },
  {
   "cell_type": "code",
   "execution_count": 48,
   "metadata": {},
   "outputs": [
    {
     "name": "stdout",
     "output_type": "stream",
     "text": [
      "Prediction: 🎄\n",
      "Truth: 🎄\n"
     ]
    },
    {
     "data": {
      "image/png": "[encoded data removed]",
      "text/plain": [
       "<Figure size 1116x50.4 with 1 Axes>"
      ]
     },
     "metadata": {
      "needs_background": "light"
     },
     "output_type": "display_data"
    }
   ],
   "source": [
    "inspect_sample(5)"
   ]
  }
 ],
 "metadata": {
  "kernelspec": {
   "display_name": "Python 3",
   "language": "python",
   "name": "python3"
  },
  "language_info": {
   "codemirror_mode": {
    "name": "ipython",
    "version": 3
   },
   "file_extension": ".py",
   "mimetype": "text/x-python",
   "name": "python",
   "nbconvert_exporter": "python",
   "pygments_lexer": "ipython3",
   "version": "3.6.6"
  }
 },
 "nbformat": 4,
 "nbformat_minor": 2
}
