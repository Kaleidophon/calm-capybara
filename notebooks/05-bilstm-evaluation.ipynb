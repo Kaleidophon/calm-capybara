{
 "cells": [
  {
   "cell_type": "markdown",
   "metadata": {},
   "source": [
    "# BiLSTM Classifier evaluation"
   ]
  },
  {
   "cell_type": "code",
   "execution_count": 1,
   "metadata": {},
   "outputs": [],
   "source": [
    "# Import code from file in upper directory\n",
    "import sys, os\n",
    "sys.path.append(os.getcwd() + os.sep + os.pardir)\n",
    "\n",
    "from tweet_data import TweetsBaseDataset\n",
    "from bilstm import BiLSTMClassifier\n",
    "from train import load_model\n",
    "from evaluate import predict_dataset\n",
    "\n",
    "import numpy as np\n",
    "from sklearn.metrics import f1_score"
   ]
  },
  {
   "cell_type": "markdown",
   "metadata": {},
   "source": [
    "We start by instantiating a model with empty embeddings, and then loading the weights from an already trained model."
   ]
  },
  {
   "cell_type": "code",
   "execution_count": 5,
   "metadata": {},
   "outputs": [],
   "source": [
    "embeddings = np.empty((10002, 300), dtype=np.float32)\n",
    "model = BiLSTMClassifier(embeddings)\n",
    "model = load_model(model, '../runs/Sep26_12-02-32_gpu-deep-learner/best-ckpt.pt')"
   ]
  },
  {
   "cell_type": "markdown",
   "metadata": {},
   "source": [
    "Now we load the dataset to evaluate the model."
   ]
  },
  {
   "cell_type": "code",
   "execution_count": null,
   "metadata": {},
   "outputs": [],
   "source": [
    "test_set = TweetsBaseDataset.load('../data/test/us_test.set')"
   ]
  },
  {
   "cell_type": "markdown",
   "metadata": {},
   "source": [
    "Since the model makes predictions for padded sequences in mini-batches, where sequences are sorted by length, the order can differ from the order of the tweets in the original dataset, so when predicting we also retrieve the indices that correspond to the line number of the tweet in the original dataset."
   ]
  },
  {
   "cell_type": "code",
   "execution_count": 3,
   "metadata": {},
   "outputs": [],
   "source": [
    "y_true, y_pred, indices = predict_dataset(model, test_set)"
   ]
  },
  {
   "cell_type": "code",
   "execution_count": 4,
   "metadata": {},
   "outputs": [
    {
     "name": "stdout",
     "output_type": "stream",
     "text": [
      "0.31867597121484675\n"
     ]
    }
   ],
   "source": [
    "print(f1_score(y_true, y_pred, average='macro'))"
   ]
  }
 ],
 "metadata": {
  "kernelspec": {
   "display_name": "Python 3",
   "language": "python",
   "name": "python3"
  },
  "language_info": {
   "codemirror_mode": {
    "name": "ipython",
    "version": 3
   },
   "file_extension": ".py",
   "mimetype": "text/x-python",
   "name": "python",
   "nbconvert_exporter": "python",
   "pygments_lexer": "ipython3",
   "version": "3.6.6"
  }
 },
 "nbformat": 4,
 "nbformat_minor": 2
}
