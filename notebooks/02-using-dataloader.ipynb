{
 "cells": [
  {
   "cell_type": "markdown",
   "metadata": {},
   "source": [
    "# Using the DataLoader"
   ]
  },
  {
   "cell_type": "code",
   "execution_count": 1,
   "metadata": {},
   "outputs": [],
   "source": [
    "# Import code from file in upper directory\n",
    "import sys, os\n",
    "sys.path.append(os.getcwd() + os.sep + os.pardir)\n",
    "from tweet_data import TweetsBaseDataset"
   ]
  },
  {
   "cell_type": "markdown",
   "metadata": {},
   "source": [
    "Let's load the dev dataset for simplicity."
   ]
  },
  {
   "cell_type": "code",
   "execution_count": 2,
   "metadata": {},
   "outputs": [
    {
     "name": "stdout",
     "output_type": "stream",
     "text": [
      "Reading twitter - 1grams ...\n",
      "Reading twitter - 2grams ...\n",
      "Reading twitter - 1grams ...\n",
      "Reading files in directory ../data/dev/us_trial\n",
      "Read file with 50000 tweets\n",
      "Building vocabulary\n",
      "Loading labels\n"
     ]
    }
   ],
   "source": [
    "dataset = TweetsBaseDataset('../data/dev', 'us_trial')"
   ]
  },
  {
   "cell_type": "markdown",
   "metadata": {},
   "source": [
    "To be able to get batches of variable-length sequences we have to write our custom `collate_fn` for the `DataLoader`. This function is defined in `TweetBaseDataset.collate_fn()`."
   ]
  },
  {
   "cell_type": "code",
   "execution_count": 3,
   "metadata": {},
   "outputs": [],
   "source": [
    "from torch.utils.data import DataLoader\n",
    "data_loader = DataLoader(dataset, collate_fn=TweetsBaseDataset.collate_fn, batch_size=4, shuffle=True)"
   ]
  },
  {
   "cell_type": "markdown",
   "metadata": {},
   "source": [
    "We can now use the data loader to get batches of the data. Each batch contains the padded sequences, the labels, and the length of each sequence. Padding is inserted with zeros (consistent with `dataset.vocabulary['<PAD>']`, which maps to 0) and sequences are sorted from longest to shortest:"
   ]
  },
  {
   "cell_type": "code",
   "execution_count": 4,
   "metadata": {},
   "outputs": [
    {
     "name": "stdout",
     "output_type": "stream",
     "text": [
      "Padded sequences:\n",
      " tensor([[ 331,  109, 1370,    2],\n",
      "        [  57,  146, 2190, 2484],\n",
      "        [ 207,  807,  221,  961],\n",
      "        [ 548,  419,    6,    3],\n",
      "        [   2,  461, 4590,    2],\n",
      "        [2132,    8,  418,  388],\n",
      "        [   3,   39,    1,    3],\n",
      "        [   2,  807,   24,    2],\n",
      "        [ 182,   14,  674,   87],\n",
      "        [  14,  593,   19,    3],\n",
      "        [   3, 8994, 4590,    4],\n",
      "        [   2,  100,  476, 4454],\n",
      "        [2150,    7,    9,   65],\n",
      "        [3138,   17,   22,    0],\n",
      "        [2150,   19,    6,    0],\n",
      "        [ 907,   14,   23,    0],\n",
      "        [  14, 2258,    5,    0],\n",
      "        [   3,   20,    0,    0],\n",
      "        [   2,    1,    0,    0],\n",
      "        [  13,    2,    0,    0],\n",
      "        [4085, 8995,    0,    0],\n",
      "        [ 792,    3,    0,    0],\n",
      "        [   1,    5,    0,    0],\n",
      "        [   3,    0,    0,    0],\n",
      "        [   2,    0,    0,    0],\n",
      "        [ 299,    0,    0,    0],\n",
      "        [  18,    0,    0,    0],\n",
      "        [ 142,    0,    0,    0],\n",
      "        [  52,    0,    0,    0],\n",
      "        [   3,    0,    0,    0],\n",
      "        [   5,    0,    0,    0]])\n",
      "Labels:\n",
      " tensor([13,  9,  7,  2])\n",
      "Sequence lenghts:\n",
      " tensor([31, 23, 17, 13])\n"
     ]
    }
   ],
   "source": [
    "data, labels, lengths = next(iter(data_loader))\n",
    "print('Padded sequences:\\n', data)\n",
    "print('Labels:\\n', labels)\n",
    "print('Sequence lenghts:\\n', lengths)"
   ]
  },
  {
   "cell_type": "markdown",
   "metadata": {},
   "source": [
    "The sequence lengths can be used to create a `PackedSequence`, which avoids calculating the output of recurrent models for padding tokens. A `PackedSequence` is created using `pack_padded_sequence()`:"
   ]
  },
  {
   "cell_type": "code",
   "execution_count": 5,
   "metadata": {},
   "outputs": [
    {
     "name": "stdout",
     "output_type": "stream",
     "text": [
      "tensor([[[-0.0838,  0.2720,  0.0836, -0.1564, -0.3074,  0.1873],\n",
      "         [-0.0749,  0.1578,  0.1244, -0.3130, -0.2459,  0.1515],\n",
      "         [-0.0096,  0.2513,  0.1120, -0.1580, -0.0136, -0.0796],\n",
      "         [ 0.2482,  0.2602, -0.2492,  0.0496,  0.0717,  0.1613]]],\n",
      "       grad_fn=<ThAddBackward>)\n"
     ]
    }
   ],
   "source": [
    "import torch\n",
    "from torch.nn.utils.rnn import pack_padded_sequence\n",
    "\n",
    "# Model definition\n",
    "embedding_dim = 100\n",
    "embeddings = torch.nn.Embedding(len(dataset.vocabulary), embedding_dim)\n",
    "rnn = torch.nn.RNN(embedding_dim, embedding_dim)\n",
    "linear = torch.nn.Linear(embedding_dim, 6)\n",
    "\n",
    "# Forward pass with padded batch of data\n",
    "def example_forward(data, lengths):\n",
    "    x = embeddings(data)\n",
    "    x = pack_padded_sequence(x, lengths)\n",
    "    _, x = rnn(x)\n",
    "    x = linear(x)\n",
    "    \n",
    "    return x\n",
    "\n",
    "print(example_forward(data, lengths))"
   ]
  },
  {
   "cell_type": "markdown",
   "metadata": {},
   "source": [
    "Note that throughout these examples we have been using the default setting in PyTorch where the first axis corresponds to the sequence, and the second corresponds to batches."
   ]
  }
 ],
 "metadata": {
  "kernelspec": {
   "display_name": "Python 3",
   "language": "python",
   "name": "python3"
  },
  "language_info": {
   "codemirror_mode": {
    "name": "ipython",
    "version": 3
   },
   "file_extension": ".py",
   "mimetype": "text/x-python",
   "name": "python",
   "nbconvert_exporter": "python",
   "pygments_lexer": "ipython3",
   "version": "3.6.6"
  }
 },
 "nbformat": 4,
 "nbformat_minor": 2
}
