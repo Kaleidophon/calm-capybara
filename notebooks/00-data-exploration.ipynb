{
 "cells": [
  {
   "cell_type": "markdown",
   "metadata": {},
   "source": [
    "# Data exploration"
   ]
  },
  {
   "cell_type": "code",
   "execution_count": 1,
   "metadata": {},
   "outputs": [],
   "source": [
    "# Import code from file in upper directory\n",
    "import sys, os\n",
    "sys.path.append(os.getcwd() + os.sep + os.pardir)\n",
    "from tweet_data import TweetsBaseDataset"
   ]
  },
  {
   "cell_type": "markdown",
   "metadata": {},
   "source": [
    "When loading the dataset we get some basic stats (this might take about 3 min to load):"
   ]
  },
  {
   "cell_type": "code",
   "execution_count": 2,
   "metadata": {},
   "outputs": [
    {
     "name": "stdout",
     "output_type": "stream",
     "text": [
      "Reading file\n",
      "Read file with 489609 tweets, 409571 unique tokens\n",
      "Building vocabulary\n",
      "Loading labels\n"
     ]
    }
   ],
   "source": [
    "dataset = TweetsBaseDataset('../data/train', 'us_train')"
   ]
  },
  {
   "cell_type": "markdown",
   "metadata": {},
   "source": [
    "By default the `TweetsBaseDataset` class uses a fixed vocabulary of 10,000 words (plus two symbols for `UNK` and `PAD`), which reduces the original number of unique tokens of 409,571. By modifying `TweetsBaseDataset.process_tweet()` we can include more relevant tokens into the vocabulary. Initially this method does a simple tokenization using NLTK, whose results we can observe on the obtained vocabulary:"
   ]
  },
  {
   "cell_type": "code",
   "execution_count": 3,
   "metadata": {},
   "outputs": [
    {
     "data": {
      "text/plain": [
       "['<PAD>',\n",
       " '<UNK>',\n",
       " '#',\n",
       " '@',\n",
       " '!',\n",
       " ',',\n",
       " '️',\n",
       " 'user',\n",
       " '.',\n",
       " 'the',\n",
       " 'I',\n",
       " 'to',\n",
       " 'my',\n",
       " 'a',\n",
       " 'in',\n",
       " 'and',\n",
       " 'you',\n",
       " \"'s\",\n",
       " 'of',\n",
       " 'with']"
      ]
     },
     "execution_count": 3,
     "metadata": {},
     "output_type": "execute_result"
    }
   ],
   "source": [
    "list(dataset.vocabulary.keys())[:20]"
   ]
  },
  {
   "cell_type": "markdown",
   "metadata": {},
   "source": [
    "It is interesting to check the distribution of labels, as reported in related papers:"
   ]
  },
  {
   "cell_type": "code",
   "execution_count": 4,
   "metadata": {},
   "outputs": [
    {
     "data": {
      "image/png": "[encoded data removed]",
      "text/plain": [
       "<Figure size 432x288 with 1 Axes>"
      ]
     },
     "metadata": {
      "needs_background": "light"
     },
     "output_type": "display_data"
    }
   ],
   "source": [
    "import matplotlib.pyplot as plt\n",
    "%matplotlib inline\n",
    "\n",
    "plt.hist(dataset.labels);"
   ]
  }
 ],
 "metadata": {
  "kernelspec": {
   "display_name": "Python 3",
   "language": "python",
   "name": "python3"
  },
  "language_info": {
   "codemirror_mode": {
    "name": "ipython",
    "version": 3
   },
   "file_extension": ".py",
   "mimetype": "text/x-python",
   "name": "python",
   "nbconvert_exporter": "python",
   "pygments_lexer": "ipython3",
   "version": "3.6.4"
  }
 },
 "nbformat": 4,
 "nbformat_minor": 2
}
